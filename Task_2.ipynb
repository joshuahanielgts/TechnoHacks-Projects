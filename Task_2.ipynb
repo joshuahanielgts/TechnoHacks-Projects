{
  "nbformat": 4,
  "nbformat_minor": 0,
  "metadata": {
    "colab": {
      "provenance": []
    },
    "kernelspec": {
      "name": "python3",
      "display_name": "Python 3"
    },
    "language_info": {
      "name": "python"
    }
  },
  "cells": [
    {
      "cell_type": "code",
      "execution_count": null,
      "metadata": {
        "id": "lM3JcBGtey3j"
      },
      "outputs": [],
      "source": [
        "import http.client\n",
        "import json"
      ]
    },
    {
      "cell_type": "code",
      "source": [
        "def get_weather(city_name):\n",
        "    conn = http.client.HTTPSConnection(\"yahoo-weather5.p.rapidapi.com\")\n",
        "\n",
        "    headers = {\n",
        "        'x-rapidapi-key': \"4afb3a93bamsh99b989c4ddd4757p123a53jsnb34275a4e70b\",\n",
        "        'x-rapidapi-host': \"yahoo-weather5.p.rapidapi.com\"\n",
        "    }\n",
        "\n",
        "    endpoint = f\"/weather?location={city_name}&format=json&u=c\"\n",
        "    conn.request(\"GET\", endpoint, headers=headers)\n",
        "\n",
        "    res = conn.getresponse()\n",
        "    data = res.read()\n",
        "\n",
        "    if res.status == 200:\n",
        "        weather_data = json.loads(data.decode(\"utf-8\"))\n",
        "        try:\n",
        "            location = weather_data['location']\n",
        "            condition = weather_data['current_observation']['condition']\n",
        "            print(f\"Weather for {location['city']}, {location['country']}\")\n",
        "            print(f\"Temperature: {condition['temperature']}°C\")\n",
        "            print(f\"Weather: {condition['text']}\")\n",
        "        except KeyError:\n",
        "            print(\"Weather information is not available for this city.\")\n",
        "    else:\n",
        "        print(\"Failed to fetch weather data. Please check the city name or API key.\")\n"
      ],
      "metadata": {
        "id": "ntkWDa2Te_Ax"
      },
      "execution_count": null,
      "outputs": []
    },
    {
      "cell_type": "code",
      "source": [
        "def main():\n",
        "    print(\"Weather Forecast Application (Yahoo Weather API)\")\n",
        "    try:\n",
        "        city_name = input(\"Enter city name (e.g., Chennai): \").strip()\n",
        "        get_weather(city_name)\n",
        "    except Exception as e:\n",
        "        print(f\"An error occurred: {e}\")"
      ],
      "metadata": {
        "id": "of6fKldBfCuj"
      },
      "execution_count": null,
      "outputs": []
    },
    {
      "cell_type": "code",
      "source": [
        "main()"
      ],
      "metadata": {
        "colab": {
          "base_uri": "https://localhost:8080/"
        },
        "id": "tOuXf-6ffEkq",
        "outputId": "a030812a-3b80-47f4-ef0b-fa25b866370b"
      },
      "execution_count": null,
      "outputs": [
        {
          "output_type": "stream",
          "name": "stdout",
          "text": [
            "Weather Forecast Application (Yahoo Weather API)\n",
            "Enter city name (e.g., Chennai): Chennai\n",
            "Weather for Chennai, India\n",
            "Temperature: 33°C\n",
            "Weather: Cloudy\n"
          ]
        }
      ]
    }
  ]
}